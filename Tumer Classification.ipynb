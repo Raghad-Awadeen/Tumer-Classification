{
  "cells": [
    {
      "cell_type": "code",
      "execution_count": null,
      "id": "QwaDi9EpXaXK",
      "metadata": {
        "colab": {
          "base_uri": "https://localhost:8080/"
        },
        "id": "QwaDi9EpXaXK",
        "outputId": "b617f6f4-ae2e-483a-f365-0bded03c9c4d"
      },
      "outputs": [
        {
          "name": "stdout",
          "output_type": "stream",
          "text": [
            "Mounted at /content/drive\n"
          ]
        }
      ],
      "source": [
        "from google.colab import drive\n",
        "drive.mount('/content/drive')"
      ]
    },
    {
      "cell_type": "code",
      "execution_count": null,
      "id": "64850f0b",
      "metadata": {
        "id": "64850f0b"
      },
      "outputs": [],
      "source": [
        "import os\n",
        "import glob\n",
        "import cv2\n",
        "import numpy as np\n",
        "import pandas as pd\n",
        "import matplotlib.pyplot as plt\n",
        "import seaborn as sns\n",
        "import random\n",
        "from PIL import Image\n",
        "from sklearn.model_selection import train_test_split\n",
        "# from tensorflow.keras.preprocessing.image import ImageDataGenerator\n",
        "from sklearn.discriminant_analysis import LinearDiscriminantAnalysis\n",
        "from sklearn.model_selection import train_test_split\n",
        "from sklearn.svm import SVC\n",
        "from sklearn.discriminant_analysis import LinearDiscriminantAnalysis\n",
        "from sklearn.metrics import accuracy_score\n",
        "from sklearn.metrics import f1_score\n",
        "from sklearn.neighbors import KNeighborsClassifier\n",
        "from sklearn.ensemble import RandomForestClassifier\n",
        "from sklearn.model_selection import GridSearchCV\n",
        "from skimage.feature import graycomatrix, graycoprops\n",
        "from skimage.transform import rotate\n",
        "from bayes_opt import BayesianOptimization\n",
        "from sklearn.model_selection import cross_val_score\n",
        "from sklearn.ensemble import GradientBoostingClassifier\n",
        "from sklearn.metrics import accuracy_score, confusion_matrix\n",
        "\n"
      ]
    },
    {
      "cell_type": "markdown",
      "id": "826f95ec",
      "metadata": {
        "id": "826f95ec"
      },
      "source": [
        "# Read files"
      ]
    },
    {
      "cell_type": "code",
      "execution_count": null,
      "id": "24e4f576",
      "metadata": {
        "id": "24e4f576"
      },
      "outputs": [],
      "source": [
        "# Read the CSV file\n",
        "trainData = pd.read_csv('/content/drive/MyDrive/Tumor-Classification/trainset.csv')\n",
        "trainData = trainData.drop(columns='Unnamed: 0')\n",
        "\n",
        "\n",
        "testData = pd.read_csv('/content/drive/MyDrive/Tumor-Classification/testset.csv')\n",
        "testData = testData.drop(columns='Unnamed: 0')"
      ]
    },
    {
      "cell_type": "code",
      "execution_count": null,
      "id": "781ed377",
      "metadata": {
        "id": "781ed377"
      },
      "outputs": [],
      "source": [
        "trainData['Image'] = trainData['Id'].apply(lambda x: cv2.imread(f'/content/drive/MyDrive/Tumor-Classification/images/images/{x}.png'))\n",
        "\n",
        "testData['Image'] = testData['Id'].apply(lambda x: cv2.imread(f'/content/drive/MyDrive/Tumor-Classification/images/images/{x}.png'))"
      ]
    },
    {
      "cell_type": "markdown",
      "id": "37cc54d6",
      "metadata": {
        "id": "37cc54d6"
      },
      "source": [
        "# Image Preprocessing"
      ]
    },
    {
      "cell_type": "markdown",
      "id": "037d2b99",
      "metadata": {
        "id": "037d2b99"
      },
      "source": [
        "# convert to grayscale"
      ]
    },
    {
      "cell_type": "code",
      "execution_count": null,
      "id": "4921e8c3",
      "metadata": {
        "id": "4921e8c3"
      },
      "outputs": [],
      "source": [
        "# trainData['Image'] = trainData['Image'].apply(lambda x: cv2.cvtColor(x, cv2.COLOR_BGR2GRAY))\n",
        "trainData['Image'] = trainData['Image'].apply(lambda x: cv2.cvtColor(x, cv2.COLOR_BGR2GRAY))"
      ]
    },
    {
      "cell_type": "code",
      "execution_count": null,
      "id": "O-8azVEnqPMI",
      "metadata": {
        "colab": {
          "base_uri": "https://localhost:8080/"
        },
        "id": "O-8azVEnqPMI",
        "outputId": "18746685-e6bc-432f-ea9f-abc9178074fb"
      },
      "outputs": [
        {
          "name": "stdout",
          "output_type": "stream",
          "text": [
            "0\n"
          ]
        }
      ],
      "source": [
        "print(trainData['Image'].isnull().sum())\n"
      ]
    },
    {
      "cell_type": "code",
      "execution_count": null,
      "id": "f475f277",
      "metadata": {
        "id": "f475f277"
      },
      "outputs": [],
      "source": [
        "testData['Image'] = testData['Image'].apply(lambda x: cv2.cvtColor(x , cv2.COLOR_BGR2GRAY))"
      ]
    },
    {
      "cell_type": "markdown",
      "id": "7d8ef53e",
      "metadata": {
        "id": "7d8ef53e"
      },
      "source": [
        "# Thresholding Techniques"
      ]
    },
    {
      "cell_type": "code",
      "execution_count": null,
      "id": "5b4aa8d7",
      "metadata": {
        "id": "5b4aa8d7"
      },
      "outputs": [],
      "source": [
        "# trainData['Image'] = trainData['Image'].apply(lambda x: cv2.threshold(x, 128, 255, cv2.THRESH_BINARY)[1])"
      ]
    },
    {
      "cell_type": "code",
      "execution_count": null,
      "id": "18e7b0a1",
      "metadata": {
        "id": "18e7b0a1"
      },
      "outputs": [],
      "source": [
        "# testData['Image'] = testData['Image'].apply(lambda x: cv2.threshold(x, 128, 255, cv2.THRESH_BINARY)[1])"
      ]
    },
    {
      "cell_type": "markdown",
      "id": "3f76ca66",
      "metadata": {
        "id": "3f76ca66"
      },
      "source": [
        "# Noise Removal Techniques"
      ]
    },
    {
      "cell_type": "code",
      "execution_count": null,
      "id": "e8e89e96",
      "metadata": {
        "id": "e8e89e96"
      },
      "outputs": [],
      "source": [
        "# trainData['Image'] = trainData['Image'].apply(lambda x: cv2.GaussianBlur(x, (5, 5), 2))\n",
        "# trainData['Image'] = trainData['Image'].apply(lambda x: cv2.medianBlur(x, 5))\n",
        "# trainData['Image'] = trainData['Image'].apply(lambda x: cv2.Sobel(x, cv2.CV_64F, 1, 0, ksize=3))\n",
        "# trainData['Image'] = trainData['Image'].apply(lambda x: cv2.Canny(x, threshold1=100, threshold2=200))\n",
        "# trainData['Image'] = trainData['Image'].apply(lambda x: cv2.bilateralFilter(x, d=9, sigmaColor=75, sigmaSpace=75))\n",
        "# trainData['Image'] = trainData['Image'].apply(lambda x: cv2.Laplacian(x, cv2.CV_64F))\n",
        "\n",
        "# clahe = cv2.createCLAHE(clipLimit=2.0, tileGridSize=(8, 8))\n",
        "# trainData['Image'] = trainData['Image'].apply(lambda x: clahe.apply(x))\n",
        "\n",
        "\n",
        "# trainData['Image'] = trainData['Image'].apply(lambda x: cv2.Sobel(x, cv2.CV_64F, 1, 1, ksize=3))\n",
        "# trainData['Image'] = trainData['Image'].apply(lambda x: np.abs(x))\n",
        "\n",
        "# def apply_morphological_ops(image):\n",
        "#     kernel = cv2.getStructuringElement(cv2.MORPH_RECT, (5, 5))\n",
        "#     closing = cv2.morphologyEx(image, cv2.MORPH_CLOSE, kernel)\n",
        "#     return closing\n",
        "\n",
        "# trainData['Image'] = trainData['Image'].apply(apply_morphological_ops)\n",
        "\n",
        "\n",
        "# def apply_frequency_domain_filter(image):\n",
        "#     # Apply FFT to the image\n",
        "#     f_transform = np.fft.fft2(image)\n",
        "#     f_shift = np.fft.fftshift(f_transform)\n",
        "\n",
        "#     # Define a high-pass filter\n",
        "#     rows, cols = image.shape\n",
        "#     center_row, center_col = rows // 2, cols // 2\n",
        "#     radius = 30\n",
        "#     mask = np.ones((rows, cols), np.uint8)\n",
        "#     cv2.circle(mask, (center_col, center_row), radius, 0, -1)\n",
        "\n",
        "#     # Apply the filter\n",
        "#     f_shift_filtered = f_shift * mask\n",
        "\n",
        "#     # Inverse FFT to obtain the filtered image\n",
        "#     image_filtered = np.fft.ifft2(np.fft.ifftshift(f_shift_filtered)).real\n",
        "\n",
        "#     return image_filtered\n",
        "\n",
        "# trainData['Image'] = trainData['Image'].apply(apply_frequency_domain_filter)\n",
        "\n",
        "# def apply_anisotropic_diffusion(image, iterations=10, delta_t=0.25, kappa=10):\n",
        "#     filtered_image = image.copy()\n",
        "#     rows, cols = image.shape\n",
        "\n",
        "#     for _ in range(iterations):\n",
        "#         grad_x = cv2.Sobel(filtered_image, cv2.CV_64F, 1, 0, ksize=3)\n",
        "#         grad_y = cv2.Sobel(filtered_image, cv2.CV_64F, 0, 1, ksize=3)\n",
        "#         grad_magnitude = np.sqrt(grad_x**2 + grad_y**2)\n",
        "#         c = np.exp(-((grad_magnitude / kappa) ** 2))\n",
        "\n",
        "#         laplacian = cv2.Laplacian(filtered_image, cv2.CV_64F)\n",
        "#         filtered_image += delta_t * c * laplacian\n",
        "\n",
        "#     return filtered_image\n",
        "\n",
        "# trainData['Image'] = trainData['Image'].apply(apply_anisotropic_diffusion)\n",
        "\n"
      ]
    },
    {
      "cell_type": "code",
      "execution_count": null,
      "id": "28b364e8",
      "metadata": {
        "id": "28b364e8"
      },
      "outputs": [],
      "source": [
        "# testData['Image'] = testData['Image'].apply(lambda x: cv2.GaussianBlur(x, (5, 5), 2))\n",
        "# testData['Image'] = testData['Image'].apply(lambda x: cv2.medianBlur(x, 5))\n",
        "# testData['Image'] = testData['Image'].apply(lambda x: cv2.Sobel(x, cv2.CV_64F, 1, 0, ksize=3))\n",
        "# testData['Image'] = testData['Image'].apply(lambda x: cv2.Canny(x, threshold1=100, threshold2=200))\n",
        "# testData['Image'] = testData['Image'].apply(lambda x: cv2.bilateralFilter(x, d=9, sigmaColor=75, sigmaSpace=75))\n",
        "# testData['Image'] = testData['Image'].apply(lambda x: cv2.Laplacian(x, cv2.CV_64F))\n",
        "\n",
        "# clahe = cv2.createCLAHE(clipLimit=2.0, tileGridSize=(8, 8))\n",
        "# testData['Image'] = testData['Image'].apply(lambda x: clahe.apply(x))\n",
        "\n",
        "# testData['Image'] = testData['Image'].apply(lambda x: cv2.Sobel(x, cv2.CV_64F, 1, 1, ksize=3))\n",
        "# testData['Image'] = testData['Image'].apply(lambda x: np.abs(x))\n",
        "\n",
        "# testData['Image'] = testData['Image'].apply(apply_morphological_ops)\n",
        "\n",
        "\n",
        "# testData['Image'] = testData['Image'].apply(apply_frequency_domain_filter)\n",
        "\n",
        "# testData['Image'] = testData['Image'].apply(apply_anisotropic_diffusion)\n",
        "\n"
      ]
    },
    {
      "cell_type": "markdown",
      "id": "b26015cf",
      "metadata": {
        "id": "b26015cf"
      },
      "source": [
        "# Resize"
      ]
    },
    {
      "cell_type": "code",
      "execution_count": null,
      "id": "24d55a75",
      "metadata": {
        "id": "24d55a75"
      },
      "outputs": [],
      "source": [
        "trainData['Image'] = trainData['Image'].apply(lambda x: cv2.resize(x, (400,400))if x is not None else None)"
      ]
    },
    {
      "cell_type": "code",
      "execution_count": null,
      "id": "505ab34f",
      "metadata": {
        "id": "505ab34f"
      },
      "outputs": [],
      "source": [
        "testData['Image'] = testData['Image'].apply(lambda x: cv2.resize(x, (400,400))if x is not None else None)"
      ]
    },
    {
      "cell_type": "markdown",
      "id": "84529a88",
      "metadata": {
        "id": "84529a88"
      },
      "source": [
        "# Histogram"
      ]
    },
    {
      "cell_type": "code",
      "execution_count": null,
      "id": "ff761f8c",
      "metadata": {
        "id": "ff761f8c"
      },
      "outputs": [],
      "source": [
        "trainData['Image'] = trainData['Image'].apply(lambda x: cv2.equalizeHist(x))"
      ]
    },
    {
      "cell_type": "code",
      "execution_count": null,
      "id": "1c6bdc6d",
      "metadata": {
        "id": "1c6bdc6d"
      },
      "outputs": [],
      "source": [
        "testData['Image'] = testData['Image'].apply(lambda x: cv2.equalizeHist(x))"
      ]
    },
    {
      "cell_type": "markdown",
      "id": "31292426",
      "metadata": {
        "id": "31292426"
      },
      "source": [
        "# Augmentation"
      ]
    },
    {
      "cell_type": "code",
      "execution_count": null,
      "id": "GzBBxbswvxer",
      "metadata": {
        "id": "GzBBxbswvxer"
      },
      "outputs": [],
      "source": [
        "def apply_augmentation(image, label, rotation_angle_range=(-10, 10)):\n",
        "    # Randomly rotate the image within the specified angle range\n",
        "    if image is not None:  # Check if image is valid\n",
        "        angle = np.random.randint(rotation_angle_range[0], rotation_angle_range[1])\n",
        "        # Convert to grayscale if not already\n",
        "        if len(image.shape) == 3:\n",
        "            image = cv2.cvtColor(image, cv2.COLOR_BGR2GRAY)\n",
        "        augmented_image = rotate(image, angle, mode='edge', preserve_range=True)\n",
        "\n",
        "        return augmented_image, label\n",
        "    else:\n",
        "        # Handle invalid images (e.g., skip or use a placeholder)\n",
        "        return None, label\n",
        "\n",
        "# Create augmented dataset\n",
        "num_augmentations = 3  # Number of augmentations per original image\n",
        "augmented_data = []\n",
        "\n",
        "for index, row in trainData.iterrows():\n",
        "    original_image = row['Image']\n",
        "    label = row['Class']\n",
        "    # Check if the image is valid before augmentation\n",
        "    if original_image is not None:\n",
        "        augmented_data.extend([apply_augmentation(original_image, label) for _ in range(num_augmentations)])\n",
        "\n",
        "# Shuffle the augmented dataset\n",
        "augmented_data = [data for data in augmented_data if data[0] is not None] # Remove entries with None image\n",
        "np.random.shuffle(augmented_data)\n",
        "\n",
        "# Separate images and labels\n",
        "augmented_images = [data[0] for data in augmented_data]\n",
        "augmented_labels = [data[1] for data in augmented_data]"
      ]
    },
    {
      "cell_type": "markdown",
      "id": "4d8debec",
      "metadata": {
        "id": "4d8debec"
      },
      "source": [
        "# Gabor filters"
      ]
    },
    {
      "cell_type": "code",
      "execution_count": null,
      "id": "87107606",
      "metadata": {
        "id": "87107606"
      },
      "outputs": [],
      "source": [
        "# ksize = 40\n",
        "# sigma = 3\n",
        "# theta = np.pi / 4\n",
        "# lamda = np.pi / 4\n",
        "# gamma = 1\n",
        "# phi = 0\n",
        "\n",
        "# kernel = cv2.getGaborKernel((ksize , ksize) , sigma, theta, lamda, gamma, phi, ktype=cv2.CV_32F)\n",
        "\n",
        "# trainData['Image'] = trainData['Image'].apply( lambda x: cv2.filter2D( x , cv2.CV_8U , kernel))\n"
      ]
    },
    {
      "cell_type": "markdown",
      "id": "53795fb9",
      "metadata": {
        "id": "53795fb9"
      },
      "source": [
        "# LDA"
      ]
    },
    {
      "cell_type": "code",
      "execution_count": null,
      "id": "1c4a25f6",
      "metadata": {
        "id": "1c4a25f6"
      },
      "outputs": [],
      "source": [
        "\n",
        "valid_data = trainData[trainData['Image'].notnull()]\n",
        "\n",
        "X = np.array([img.flatten() for img in valid_data['Image']])\n",
        "\n",
        "y = valid_data['Class'].values\n"
      ]
    },
    {
      "cell_type": "code",
      "execution_count": null,
      "id": "8536f21e",
      "metadata": {
        "colab": {
          "base_uri": "https://localhost:8080/"
        },
        "id": "8536f21e",
        "outputId": "1facffc0-797e-4554-fc79-9ec383a638e8"
      },
      "outputs": [
        {
          "name": "stdout",
          "output_type": "stream",
          "text": [
            "Shape of X: (539, 160000)\n",
            "Shape of y: (539,)\n"
          ]
        }
      ],
      "source": [
        "from sklearn.preprocessing import StandardScaler\n",
        "\n",
        "# Check if trainData contains any images\n",
        "if trainData['Image'].isnull().all():\n",
        "    raise ValueError(\"No images found in the original dataset. Please check your data loading.\")\n",
        "\n",
        "valid_data = trainData[trainData['Image'].notnull()]\n",
        "\n",
        "# Check if valid_data contains any images after filtering\n",
        "if valid_data.empty:\n",
        "    raise ValueError(\"No valid images found after filtering. Please check your filtering conditions.\")\n",
        "\n",
        "X = np.array([img.flatten() for img in valid_data['Image']])\n",
        "\n",
        "# Extract the corresponding labels\n",
        "y = valid_data['Class'].values\n",
        "\n",
        "# Initialize the scaler and fit_transform the data\n",
        "scaler = StandardScaler()\n",
        "X = scaler.fit_transform(X)\n",
        "\n",
        "# Optionally, check the shape of X and y\n",
        "print(f\"Shape of X: {X.shape}\")\n",
        "print(f\"Shape of y: {y.shape}\")"
      ]
    },
    {
      "cell_type": "code",
      "execution_count": null,
      "id": "6f4c1d0c",
      "metadata": {
        "id": "6f4c1d0c"
      },
      "outputs": [],
      "source": [
        "X_train, X_test, y_train, y_test = train_test_split(X, y, test_size=0.2, random_state=42)"
      ]
    },
    {
      "cell_type": "markdown",
      "id": "0476d405",
      "metadata": {
        "id": "0476d405"
      },
      "source": [
        "# Modeling"
      ]
    },
    {
      "cell_type": "code",
      "execution_count": null,
      "id": "e50c9f04",
      "metadata": {
        "colab": {
          "base_uri": "https://localhost:8080/",
          "height": 80
        },
        "id": "e50c9f04",
        "outputId": "6ea3d474-c721-4aaa-beb2-1403d10f182d"
      },
      "outputs": [
        {
          "data": {
            "text/html": [
              "<style>#sk-container-id-1 {\n",
              "  /* Definition of color scheme common for light and dark mode */\n",
              "  --sklearn-color-text: black;\n",
              "  --sklearn-color-line: gray;\n",
              "  /* Definition of color scheme for unfitted estimators */\n",
              "  --sklearn-color-unfitted-level-0: #fff5e6;\n",
              "  --sklearn-color-unfitted-level-1: #f6e4d2;\n",
              "  --sklearn-color-unfitted-level-2: #ffe0b3;\n",
              "  --sklearn-color-unfitted-level-3: chocolate;\n",
              "  /* Definition of color scheme for fitted estimators */\n",
              "  --sklearn-color-fitted-level-0: #f0f8ff;\n",
              "  --sklearn-color-fitted-level-1: #d4ebff;\n",
              "  --sklearn-color-fitted-level-2: #b3dbfd;\n",
              "  --sklearn-color-fitted-level-3: cornflowerblue;\n",
              "\n",
              "  /* Specific color for light theme */\n",
              "  --sklearn-color-text-on-default-background: var(--sg-text-color, var(--theme-code-foreground, var(--jp-content-font-color1, black)));\n",
              "  --sklearn-color-background: var(--sg-background-color, var(--theme-background, var(--jp-layout-color0, white)));\n",
              "  --sklearn-color-border-box: var(--sg-text-color, var(--theme-code-foreground, var(--jp-content-font-color1, black)));\n",
              "  --sklearn-color-icon: #696969;\n",
              "\n",
              "  @media (prefers-color-scheme: dark) {\n",
              "    /* Redefinition of color scheme for dark theme */\n",
              "    --sklearn-color-text-on-default-background: var(--sg-text-color, var(--theme-code-foreground, var(--jp-content-font-color1, white)));\n",
              "    --sklearn-color-background: var(--sg-background-color, var(--theme-background, var(--jp-layout-color0, #111)));\n",
              "    --sklearn-color-border-box: var(--sg-text-color, var(--theme-code-foreground, var(--jp-content-font-color1, white)));\n",
              "    --sklearn-color-icon: #878787;\n",
              "  }\n",
              "}\n",
              "\n",
              "#sk-container-id-1 {\n",
              "  color: var(--sklearn-color-text);\n",
              "}\n",
              "\n",
              "#sk-container-id-1 pre {\n",
              "  padding: 0;\n",
              "}\n",
              "\n",
              "#sk-container-id-1 input.sk-hidden--visually {\n",
              "  border: 0;\n",
              "  clip: rect(1px 1px 1px 1px);\n",
              "  clip: rect(1px, 1px, 1px, 1px);\n",
              "  height: 1px;\n",
              "  margin: -1px;\n",
              "  overflow: hidden;\n",
              "  padding: 0;\n",
              "  position: absolute;\n",
              "  width: 1px;\n",
              "}\n",
              "\n",
              "#sk-container-id-1 div.sk-dashed-wrapped {\n",
              "  border: 1px dashed var(--sklearn-color-line);\n",
              "  margin: 0 0.4em 0.5em 0.4em;\n",
              "  box-sizing: border-box;\n",
              "  padding-bottom: 0.4em;\n",
              "  background-color: var(--sklearn-color-background);\n",
              "}\n",
              "\n",
              "#sk-container-id-1 div.sk-container {\n",
              "  /* jupyter's `normalize.less` sets `[hidden] { display: none; }`\n",
              "     but bootstrap.min.css set `[hidden] { display: none !important; }`\n",
              "     so we also need the `!important` here to be able to override the\n",
              "     default hidden behavior on the sphinx rendered scikit-learn.org.\n",
              "     See: https://github.com/scikit-learn/scikit-learn/issues/21755 */\n",
              "  display: inline-block !important;\n",
              "  position: relative;\n",
              "}\n",
              "\n",
              "#sk-container-id-1 div.sk-text-repr-fallback {\n",
              "  display: none;\n",
              "}\n",
              "\n",
              "div.sk-parallel-item,\n",
              "div.sk-serial,\n",
              "div.sk-item {\n",
              "  /* draw centered vertical line to link estimators */\n",
              "  background-image: linear-gradient(var(--sklearn-color-text-on-default-background), var(--sklearn-color-text-on-default-background));\n",
              "  background-size: 2px 100%;\n",
              "  background-repeat: no-repeat;\n",
              "  background-position: center center;\n",
              "}\n",
              "\n",
              "/* Parallel-specific style estimator block */\n",
              "\n",
              "#sk-container-id-1 div.sk-parallel-item::after {\n",
              "  content: \"\";\n",
              "  width: 100%;\n",
              "  border-bottom: 2px solid var(--sklearn-color-text-on-default-background);\n",
              "  flex-grow: 1;\n",
              "}\n",
              "\n",
              "#sk-container-id-1 div.sk-parallel {\n",
              "  display: flex;\n",
              "  align-items: stretch;\n",
              "  justify-content: center;\n",
              "  background-color: var(--sklearn-color-background);\n",
              "  position: relative;\n",
              "}\n",
              "\n",
              "#sk-container-id-1 div.sk-parallel-item {\n",
              "  display: flex;\n",
              "  flex-direction: column;\n",
              "}\n",
              "\n",
              "#sk-container-id-1 div.sk-parallel-item:first-child::after {\n",
              "  align-self: flex-end;\n",
              "  width: 50%;\n",
              "}\n",
              "\n",
              "#sk-container-id-1 div.sk-parallel-item:last-child::after {\n",
              "  align-self: flex-start;\n",
              "  width: 50%;\n",
              "}\n",
              "\n",
              "#sk-container-id-1 div.sk-parallel-item:only-child::after {\n",
              "  width: 0;\n",
              "}\n",
              "\n",
              "/* Serial-specific style estimator block */\n",
              "\n",
              "#sk-container-id-1 div.sk-serial {\n",
              "  display: flex;\n",
              "  flex-direction: column;\n",
              "  align-items: center;\n",
              "  background-color: var(--sklearn-color-background);\n",
              "  padding-right: 1em;\n",
              "  padding-left: 1em;\n",
              "}\n",
              "\n",
              "\n",
              "/* Toggleable style: style used for estimator/Pipeline/ColumnTransformer box that is\n",
              "clickable and can be expanded/collapsed.\n",
              "- Pipeline and ColumnTransformer use this feature and define the default style\n",
              "- Estimators will overwrite some part of the style using the `sk-estimator` class\n",
              "*/\n",
              "\n",
              "/* Pipeline and ColumnTransformer style (default) */\n",
              "\n",
              "#sk-container-id-1 div.sk-toggleable {\n",
              "  /* Default theme specific background. It is overwritten whether we have a\n",
              "  specific estimator or a Pipeline/ColumnTransformer */\n",
              "  background-color: var(--sklearn-color-background);\n",
              "}\n",
              "\n",
              "/* Toggleable label */\n",
              "#sk-container-id-1 label.sk-toggleable__label {\n",
              "  cursor: pointer;\n",
              "  display: block;\n",
              "  width: 100%;\n",
              "  margin-bottom: 0;\n",
              "  padding: 0.5em;\n",
              "  box-sizing: border-box;\n",
              "  text-align: center;\n",
              "}\n",
              "\n",
              "#sk-container-id-1 label.sk-toggleable__label-arrow:before {\n",
              "  /* Arrow on the left of the label */\n",
              "  content: \"▸\";\n",
              "  float: left;\n",
              "  margin-right: 0.25em;\n",
              "  color: var(--sklearn-color-icon);\n",
              "}\n",
              "\n",
              "#sk-container-id-1 label.sk-toggleable__label-arrow:hover:before {\n",
              "  color: var(--sklearn-color-text);\n",
              "}\n",
              "\n",
              "/* Toggleable content - dropdown */\n",
              "\n",
              "#sk-container-id-1 div.sk-toggleable__content {\n",
              "  max-height: 0;\n",
              "  max-width: 0;\n",
              "  overflow: hidden;\n",
              "  text-align: left;\n",
              "  /* unfitted */\n",
              "  background-color: var(--sklearn-color-unfitted-level-0);\n",
              "}\n",
              "\n",
              "#sk-container-id-1 div.sk-toggleable__content.fitted {\n",
              "  /* fitted */\n",
              "  background-color: var(--sklearn-color-fitted-level-0);\n",
              "}\n",
              "\n",
              "#sk-container-id-1 div.sk-toggleable__content pre {\n",
              "  margin: 0.2em;\n",
              "  border-radius: 0.25em;\n",
              "  color: var(--sklearn-color-text);\n",
              "  /* unfitted */\n",
              "  background-color: var(--sklearn-color-unfitted-level-0);\n",
              "}\n",
              "\n",
              "#sk-container-id-1 div.sk-toggleable__content.fitted pre {\n",
              "  /* unfitted */\n",
              "  background-color: var(--sklearn-color-fitted-level-0);\n",
              "}\n",
              "\n",
              "#sk-container-id-1 input.sk-toggleable__control:checked~div.sk-toggleable__content {\n",
              "  /* Expand drop-down */\n",
              "  max-height: 200px;\n",
              "  max-width: 100%;\n",
              "  overflow: auto;\n",
              "}\n",
              "\n",
              "#sk-container-id-1 input.sk-toggleable__control:checked~label.sk-toggleable__label-arrow:before {\n",
              "  content: \"▾\";\n",
              "}\n",
              "\n",
              "/* Pipeline/ColumnTransformer-specific style */\n",
              "\n",
              "#sk-container-id-1 div.sk-label input.sk-toggleable__control:checked~label.sk-toggleable__label {\n",
              "  color: var(--sklearn-color-text);\n",
              "  background-color: var(--sklearn-color-unfitted-level-2);\n",
              "}\n",
              "\n",
              "#sk-container-id-1 div.sk-label.fitted input.sk-toggleable__control:checked~label.sk-toggleable__label {\n",
              "  background-color: var(--sklearn-color-fitted-level-2);\n",
              "}\n",
              "\n",
              "/* Estimator-specific style */\n",
              "\n",
              "/* Colorize estimator box */\n",
              "#sk-container-id-1 div.sk-estimator input.sk-toggleable__control:checked~label.sk-toggleable__label {\n",
              "  /* unfitted */\n",
              "  background-color: var(--sklearn-color-unfitted-level-2);\n",
              "}\n",
              "\n",
              "#sk-container-id-1 div.sk-estimator.fitted input.sk-toggleable__control:checked~label.sk-toggleable__label {\n",
              "  /* fitted */\n",
              "  background-color: var(--sklearn-color-fitted-level-2);\n",
              "}\n",
              "\n",
              "#sk-container-id-1 div.sk-label label.sk-toggleable__label,\n",
              "#sk-container-id-1 div.sk-label label {\n",
              "  /* The background is the default theme color */\n",
              "  color: var(--sklearn-color-text-on-default-background);\n",
              "}\n",
              "\n",
              "/* On hover, darken the color of the background */\n",
              "#sk-container-id-1 div.sk-label:hover label.sk-toggleable__label {\n",
              "  color: var(--sklearn-color-text);\n",
              "  background-color: var(--sklearn-color-unfitted-level-2);\n",
              "}\n",
              "\n",
              "/* Label box, darken color on hover, fitted */\n",
              "#sk-container-id-1 div.sk-label.fitted:hover label.sk-toggleable__label.fitted {\n",
              "  color: var(--sklearn-color-text);\n",
              "  background-color: var(--sklearn-color-fitted-level-2);\n",
              "}\n",
              "\n",
              "/* Estimator label */\n",
              "\n",
              "#sk-container-id-1 div.sk-label label {\n",
              "  font-family: monospace;\n",
              "  font-weight: bold;\n",
              "  display: inline-block;\n",
              "  line-height: 1.2em;\n",
              "}\n",
              "\n",
              "#sk-container-id-1 div.sk-label-container {\n",
              "  text-align: center;\n",
              "}\n",
              "\n",
              "/* Estimator-specific */\n",
              "#sk-container-id-1 div.sk-estimator {\n",
              "  font-family: monospace;\n",
              "  border: 1px dotted var(--sklearn-color-border-box);\n",
              "  border-radius: 0.25em;\n",
              "  box-sizing: border-box;\n",
              "  margin-bottom: 0.5em;\n",
              "  /* unfitted */\n",
              "  background-color: var(--sklearn-color-unfitted-level-0);\n",
              "}\n",
              "\n",
              "#sk-container-id-1 div.sk-estimator.fitted {\n",
              "  /* fitted */\n",
              "  background-color: var(--sklearn-color-fitted-level-0);\n",
              "}\n",
              "\n",
              "/* on hover */\n",
              "#sk-container-id-1 div.sk-estimator:hover {\n",
              "  /* unfitted */\n",
              "  background-color: var(--sklearn-color-unfitted-level-2);\n",
              "}\n",
              "\n",
              "#sk-container-id-1 div.sk-estimator.fitted:hover {\n",
              "  /* fitted */\n",
              "  background-color: var(--sklearn-color-fitted-level-2);\n",
              "}\n",
              "\n",
              "/* Specification for estimator info (e.g. \"i\" and \"?\") */\n",
              "\n",
              "/* Common style for \"i\" and \"?\" */\n",
              "\n",
              ".sk-estimator-doc-link,\n",
              "a:link.sk-estimator-doc-link,\n",
              "a:visited.sk-estimator-doc-link {\n",
              "  float: right;\n",
              "  font-size: smaller;\n",
              "  line-height: 1em;\n",
              "  font-family: monospace;\n",
              "  background-color: var(--sklearn-color-background);\n",
              "  border-radius: 1em;\n",
              "  height: 1em;\n",
              "  width: 1em;\n",
              "  text-decoration: none !important;\n",
              "  margin-left: 1ex;\n",
              "  /* unfitted */\n",
              "  border: var(--sklearn-color-unfitted-level-1) 1pt solid;\n",
              "  color: var(--sklearn-color-unfitted-level-1);\n",
              "}\n",
              "\n",
              ".sk-estimator-doc-link.fitted,\n",
              "a:link.sk-estimator-doc-link.fitted,\n",
              "a:visited.sk-estimator-doc-link.fitted {\n",
              "  /* fitted */\n",
              "  border: var(--sklearn-color-fitted-level-1) 1pt solid;\n",
              "  color: var(--sklearn-color-fitted-level-1);\n",
              "}\n",
              "\n",
              "/* On hover */\n",
              "div.sk-estimator:hover .sk-estimator-doc-link:hover,\n",
              ".sk-estimator-doc-link:hover,\n",
              "div.sk-label-container:hover .sk-estimator-doc-link:hover,\n",
              ".sk-estimator-doc-link:hover {\n",
              "  /* unfitted */\n",
              "  background-color: var(--sklearn-color-unfitted-level-3);\n",
              "  color: var(--sklearn-color-background);\n",
              "  text-decoration: none;\n",
              "}\n",
              "\n",
              "div.sk-estimator.fitted:hover .sk-estimator-doc-link.fitted:hover,\n",
              ".sk-estimator-doc-link.fitted:hover,\n",
              "div.sk-label-container:hover .sk-estimator-doc-link.fitted:hover,\n",
              ".sk-estimator-doc-link.fitted:hover {\n",
              "  /* fitted */\n",
              "  background-color: var(--sklearn-color-fitted-level-3);\n",
              "  color: var(--sklearn-color-background);\n",
              "  text-decoration: none;\n",
              "}\n",
              "\n",
              "/* Span, style for the box shown on hovering the info icon */\n",
              ".sk-estimator-doc-link span {\n",
              "  display: none;\n",
              "  z-index: 9999;\n",
              "  position: relative;\n",
              "  font-weight: normal;\n",
              "  right: .2ex;\n",
              "  padding: .5ex;\n",
              "  margin: .5ex;\n",
              "  width: min-content;\n",
              "  min-width: 20ex;\n",
              "  max-width: 50ex;\n",
              "  color: var(--sklearn-color-text);\n",
              "  box-shadow: 2pt 2pt 4pt #999;\n",
              "  /* unfitted */\n",
              "  background: var(--sklearn-color-unfitted-level-0);\n",
              "  border: .5pt solid var(--sklearn-color-unfitted-level-3);\n",
              "}\n",
              "\n",
              ".sk-estimator-doc-link.fitted span {\n",
              "  /* fitted */\n",
              "  background: var(--sklearn-color-fitted-level-0);\n",
              "  border: var(--sklearn-color-fitted-level-3);\n",
              "}\n",
              "\n",
              ".sk-estimator-doc-link:hover span {\n",
              "  display: block;\n",
              "}\n",
              "\n",
              "/* \"?\"-specific style due to the `<a>` HTML tag */\n",
              "\n",
              "#sk-container-id-1 a.estimator_doc_link {\n",
              "  float: right;\n",
              "  font-size: 1rem;\n",
              "  line-height: 1em;\n",
              "  font-family: monospace;\n",
              "  background-color: var(--sklearn-color-background);\n",
              "  border-radius: 1rem;\n",
              "  height: 1rem;\n",
              "  width: 1rem;\n",
              "  text-decoration: none;\n",
              "  /* unfitted */\n",
              "  color: var(--sklearn-color-unfitted-level-1);\n",
              "  border: var(--sklearn-color-unfitted-level-1) 1pt solid;\n",
              "}\n",
              "\n",
              "#sk-container-id-1 a.estimator_doc_link.fitted {\n",
              "  /* fitted */\n",
              "  border: var(--sklearn-color-fitted-level-1) 1pt solid;\n",
              "  color: var(--sklearn-color-fitted-level-1);\n",
              "}\n",
              "\n",
              "/* On hover */\n",
              "#sk-container-id-1 a.estimator_doc_link:hover {\n",
              "  /* unfitted */\n",
              "  background-color: var(--sklearn-color-unfitted-level-3);\n",
              "  color: var(--sklearn-color-background);\n",
              "  text-decoration: none;\n",
              "}\n",
              "\n",
              "#sk-container-id-1 a.estimator_doc_link.fitted:hover {\n",
              "  /* fitted */\n",
              "  background-color: var(--sklearn-color-fitted-level-3);\n",
              "}\n",
              "</style><div id=\"sk-container-id-1\" class=\"sk-top-container\"><div class=\"sk-text-repr-fallback\"><pre>SVC()</pre><b>In a Jupyter environment, please rerun this cell to show the HTML representation or trust the notebook. <br />On GitHub, the HTML representation is unable to render, please try loading this page with nbviewer.org.</b></div><div class=\"sk-container\" hidden><div class=\"sk-item\"><div class=\"sk-estimator fitted sk-toggleable\"><input class=\"sk-toggleable__control sk-hidden--visually\" id=\"sk-estimator-id-1\" type=\"checkbox\" checked><label for=\"sk-estimator-id-1\" class=\"sk-toggleable__label fitted sk-toggleable__label-arrow fitted\">&nbsp;&nbsp;SVC<a class=\"sk-estimator-doc-link fitted\" rel=\"noreferrer\" target=\"_blank\" href=\"https://scikit-learn.org/1.5/modules/generated/sklearn.svm.SVC.html\">?<span>Documentation for SVC</span></a><span class=\"sk-estimator-doc-link fitted\">i<span>Fitted</span></span></label><div class=\"sk-toggleable__content fitted\"><pre>SVC()</pre></div> </div></div></div></div>"
            ],
            "text/plain": [
              "SVC()"
            ]
          },
          "execution_count": 29,
          "metadata": {},
          "output_type": "execute_result"
        }
      ],
      "source": [
        "vm_model = SVC()\n",
        "\n",
        "vm_model.fit(X_train, y_train)"
      ]
    },
    {
      "cell_type": "code",
      "execution_count": null,
      "id": "e38f979d",
      "metadata": {
        "id": "e38f979d"
      },
      "outputs": [],
      "source": [
        "X_testData = np.array([img.flatten() for img in testData['Image']])\n",
        "\n",
        "X_testData = scaler.fit_transform(X_testData)"
      ]
    },
    {
      "cell_type": "code",
      "execution_count": null,
      "id": "4056171e",
      "metadata": {
        "id": "4056171e"
      },
      "outputs": [],
      "source": [
        "# X_test1_lda = lda.transform(X_testData)"
      ]
    },
    {
      "cell_type": "code",
      "execution_count": null,
      "id": "0872c140",
      "metadata": {
        "id": "0872c140"
      },
      "outputs": [],
      "source": [
        "# Make predictions on the test set\n",
        "y_pred_scv = vm_model.predict(X_test)"
      ]
    },
    {
      "cell_type": "code",
      "execution_count": null,
      "id": "a2dc006c",
      "metadata": {
        "colab": {
          "base_uri": "https://localhost:8080/"
        },
        "id": "a2dc006c",
        "outputId": "e4beb77b-a90c-45cc-8375-69c280b8b9e0"
      },
      "outputs": [
        {
          "name": "stdout",
          "output_type": "stream",
          "text": [
            "F1 Score: 0.6851851851851852\n"
          ]
        }
      ],
      "source": [
        "f1 = f1_score(y_test, y_pred_scv ,average='micro')\n",
        "\n",
        "\n",
        "print(\"F1 Score:\", f1)"
      ]
    },
    {
      "cell_type": "code",
      "execution_count": null,
      "id": "670e673a",
      "metadata": {
        "colab": {
          "background_save": true
        },
        "id": "670e673a",
        "outputId": "ee0431f2-c726-43ba-c6e5-342012d027ff"
      },
      "outputs": [
        {
          "data": {
            "image/png": "[encoded data removed]",
            "text/plain": [
              "<Figure size 1000x600 with 1 Axes>"
            ]
          },
          "metadata": {},
          "output_type": "display_data"
        }
      ],
      "source": [
        "from sklearn.model_selection import learning_curve\n",
        "\n",
        "# Create a learning curve plot for MiniBatch K-means using Tf-idf\n",
        "train_sizes, train_scores, _ = learning_curve(\n",
        "    estimator=vm_model,\n",
        "    X=X_train,\n",
        "    y=y_train,\n",
        "    train_sizes=np.linspace(0.1, 1.0, 10),\n",
        "    cv=5,\n",
        "    scoring='f1_micro',\n",
        "    random_state=42\n",
        ")\n",
        "\n",
        "# Calculate mean and standard deviation of train scores\n",
        "train_scores_mean = np.mean(train_scores, axis=1)\n",
        "train_scores_std = np.std(train_scores, axis=1)\n",
        "\n",
        "# Plot the learning curve\n",
        "plt.figure(figsize=(10, 6))\n",
        "plt.plot(train_sizes, train_scores_mean, label='Train f1_micro', color='blue')\n",
        "plt.fill_between(train_sizes, train_scores_mean - train_scores_std,\n",
        "                 train_scores_mean + train_scores_std, alpha=0.2, color='blue')\n",
        "plt.xlabel(\"Number of Training Samples\")\n",
        "plt.ylabel(\"f1_micro\")\n",
        "# plt.title(\"Learning Curve for MiniBatch K-means using Tf-idf (Training Data)\")\n",
        "plt.legend(loc=\"best\")\n",
        "plt.grid()\n",
        "# plt.savefig('mm.jpg')\n",
        "plt.show()"
      ]
    }
  ],
  "metadata": {
    "colab": {
      "provenance": []
    },
    "kernelspec": {
      "display_name": "Python 3 (ipykernel)",
      "language": "python",
      "name": "python3"
    },
    "language_info": {
      "codemirror_mode": {
        "name": "ipython",
        "version": 3
      },
      "file_extension": ".py",
      "mimetype": "text/x-python",
      "name": "python",
      "nbconvert_exporter": "python",
      "pygments_lexer": "ipython3",
      "version": "3.10.9"
    }
  },
  "nbformat": 4,
  "nbformat_minor": 5
}